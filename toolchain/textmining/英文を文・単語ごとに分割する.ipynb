{
 "cells": [
  {
   "cell_type": "markdown",
   "metadata": {},
   "source": [
    "### sent_tokenize\n",
    "文ごと”に分割するツール\n"
   ]
  },
  {
   "cell_type": "code",
   "execution_count": 17,
   "metadata": {
    "collapsed": false
   },
   "outputs": [],
   "source": [
    "import nltk\n",
    "import matplotlib.pyplot as plt\n",
    "import numpy as np\n",
    "from nltk.corpus import inaugural\n",
    "from collections import Counter\n",
    "text = inaugural.raw('1789-Washington.txt')"
   ]
  },
  {
   "cell_type": "code",
   "execution_count": 26,
   "metadata": {
    "collapsed": false
   },
   "outputs": [
    {
     "name": "stdout",
     "output_type": "stream",
     "text": [
      "[(843, 1), (695, 1), (692, 1), (654, 1), (572, 1), (570, 1), (515, 1), (487, 1), (477, 1), (436, 1), (369, 1), (315, 1), (279, 1), (278, 1), (230, 1), (209, 1), (183, 1), (179, 1), (169, 1), (138, 1), (119, 1), (118, 1), (63, 1)]\n"
     ]
    }
   ],
   "source": [
    "# sent_tokenizeで「文ごと」に分割\n",
    "sents = nltk.tokenize.sent_tokenize(text)\n",
    "cnt = Counter(len(x) for x in sents)\n",
    "print(sorted(cnt.items(), key = lambda x: [x[1], x[0]], reverse = True))"
   ]
  },
  {
   "cell_type": "code",
   "execution_count": 27,
   "metadata": {
    "collapsed": false
   },
   "outputs": [],
   "source": [
    "#ヒストグラム\n",
    "nstring = np.array([len(x) for x in sents])\n",
    "plt.hist(nstring)\n",
    "plt.title(\"1789年ワシントン大統領就任演説の文ごとの文字数分布\")\n",
    "plt.xlabel('文の文字数')\n",
    "plt.ylabel('出現頻度')\n",
    "plt.show()"
   ]
  },
  {
   "cell_type": "markdown",
   "metadata": {},
   "source": [
    "### さらに単語に分割して数える\n",
    "split()で空白で分割する。"
   ]
  },
  {
   "cell_type": "code",
   "execution_count": 31,
   "metadata": {
    "collapsed": true
   },
   "outputs": [],
   "source": [
    "cnt = Counter(len(sent.split()) for sent in sents)"
   ]
  },
  {
   "cell_type": "code",
   "execution_count": 34,
   "metadata": {
    "collapsed": false
   },
   "outputs": [
    {
     "name": "stdout",
     "output_type": "stream",
     "text": [
      "[(140, 1), (112, 1), (110, 1), (104, 1), (93, 1), (91, 1), (89, 1), (88, 1), (81, 1), (69, 1), (63, 1), (51, 1), (47, 1), (46, 1), (41, 1), (38, 1), (34, 1), (30, 1), (29, 1), (25, 1), (20, 1), (19, 1), (11, 1)]\n"
     ]
    }
   ],
   "source": [
    "print(sorted(cnt.items(), key=lambda x: [x[1], x[0]], reverse=True))\n",
    "nstring = np.array([len(sent.split()) for sent in sents])\n",
    "plt.hist(nstring)\n",
    "plt.title('1789年ワシントン大統領就任演説の文ごとの単語数分布')\n",
    "plt.xlabel('文の単語数')\n",
    "plt.ylabel('出現頻度')\n",
    "plt.show()"
   ]
  },
  {
   "cell_type": "code",
   "execution_count": null,
   "metadata": {
    "collapsed": true
   },
   "outputs": [],
   "source": []
  }
 ],
 "metadata": {
  "kernelspec": {
   "display_name": "Python 3",
   "language": "python",
   "name": "python3"
  },
  "language_info": {
   "codemirror_mode": {
    "name": "ipython",
    "version": 3
   },
   "file_extension": ".py",
   "mimetype": "text/x-python",
   "name": "python",
   "nbconvert_exporter": "python",
   "pygments_lexer": "ipython3",
   "version": "3.5.2"
  }
 },
 "nbformat": 4,
 "nbformat_minor": 0
}
