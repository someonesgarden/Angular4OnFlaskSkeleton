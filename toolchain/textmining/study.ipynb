{
 "cells": [
  {
   "cell_type": "code",
   "execution_count": 1,
   "metadata": {
    "collapsed": true
   },
   "outputs": [],
   "source": [
    "import numpy as np\n",
    "import pandas as pd\n",
    "import matplotlib.pyplot as plt\n",
    "from sklearn.datasets import load_iris\n",
    "from sklearn.cluster import KMeans"
   ]
  },
  {
   "cell_type": "code",
   "execution_count": 4,
   "metadata": {
    "collapsed": true
   },
   "outputs": [],
   "source": [
    "iris = load_iris()\n",
    "species = ['Setosa','Versicolour', 'Virginica']\n",
    "irispddata = pd.DataFrame(iris.data, columns=iris.feature_names)\n",
    "irispdtarget = pd.DataFrame(iris.target, columns=['target'])"
   ]
  },
  {
   "cell_type": "code",
   "execution_count": 5,
   "metadata": {
    "collapsed": true
   },
   "outputs": [],
   "source": [
    "kmeans = KMeans(n_clusters=3).fit(irispddata)"
   ]
  },
  {
   "cell_type": "code",
   "execution_count": 7,
   "metadata": {
    "collapsed": true
   },
   "outputs": [],
   "source": [
    "irispd = pd.concat([irispddata, irispdtarget], axis=1)\n",
    "iriskmeans = pd.concat([irispd, pd.DataFrame(kmeans.labels_, columns=['kmeans'])], axis=1)"
   ]
  },
  {
   "cell_type": "code",
   "execution_count": 8,
   "metadata": {
    "collapsed": true
   },
   "outputs": [],
   "source": [
    "irispd0 = iriskmeans[iriskmeans.kmeans == 0]\n",
    "irispd1 = iriskmeans[iriskmeans.kmeans == 1]\n",
    "irispd2 = iriskmeans[iriskmeans.kmeans == 2]"
   ]
  },
  {
   "cell_type": "code",
   "execution_count": 11,
   "metadata": {
    "collapsed": false
   },
   "outputs": [],
   "source": [
    "plt.scatter(irispd0['petal length (cm)'], irispd0['petal width (cm)'], c='red', marker='x')\n",
    "plt.scatter(irispd1['petal length (cm)'], irispd1['petal width (cm)'], c='blue', marker='.')\n",
    "plt.scatter(irispd2['petal length (cm)'], irispd2['petal width (cm)'], c='green', marker='+')\n",
    "plt.title('iris散布図 k-means法')\n",
    "plt.xlabel('花弁の長さ(cm)')\n",
    "plt.ylabel('花弁の幅(cm)')\n",
    "plt.show()"
   ]
  },
  {
   "cell_type": "code",
   "execution_count": 12,
   "metadata": {
    "collapsed": true
   },
   "outputs": [],
   "source": [
    "import statsmodels.api as sm"
   ]
  },
  {
   "cell_type": "code",
   "execution_count": 13,
   "metadata": {
    "collapsed": true
   },
   "outputs": [],
   "source": [
    "icecream = [[1,464],[2,397],[3,493],[4,617],[5,890],[6,883],\n",
    "       [7,1292],[8,1387],[9,843],[10,621],[11,459],[12,561]]\n",
    "temperature = [[1,10.6],[2,12.2],[3,14.9],[4,20.3],[5,25.2],\n",
    "       [6,26.3],[7,29.7],[8,31.6],[9,27.7],[10,22.6],[11,15.5],[12,13.8]]"
   ]
  },
  {
   "cell_type": "code",
   "execution_count": 19,
   "metadata": {
    "collapsed": true
   },
   "outputs": [],
   "source": [
    "x = np.array([u[1] for u in temperature])\n",
    "y = np.array([u[1] for u in icecream])\n",
    "X = np.column_stack((np.repeat(1, x.size), x))"
   ]
  },
  {
   "cell_type": "code",
   "execution_count": 22,
   "metadata": {
    "collapsed": false
   },
   "outputs": [],
   "source": [
    "model = sm.OLS(y, X)\n",
    "results = model.fit()"
   ]
  },
  {
   "cell_type": "code",
   "execution_count": 23,
   "metadata": {
    "collapsed": false
   },
   "outputs": [
    {
     "name": "stdout",
     "output_type": "stream",
     "text": [
      "                            OLS Regression Results                            \n",
      "==============================================================================\n",
      "Dep. Variable:                      y   R-squared:                       0.829\n",
      "Model:                            OLS   Adj. R-squared:                  0.812\n",
      "Method:                 Least Squares   F-statistic:                     48.46\n",
      "Date:                Mon, 11 Dec 2017   Prob (F-statistic):           3.89e-05\n",
      "Time:                        01:10:27   Log-Likelihood:                -75.369\n",
      "No. Observations:                  12   AIC:                             154.7\n",
      "Df Residuals:                      10   BIC:                             155.7\n",
      "Df Model:                           1                                         \n",
      "Covariance Type:            nonrobust                                         \n",
      "==============================================================================\n",
      "                 coef    std err          t      P>|t|      [0.025      0.975]\n",
      "------------------------------------------------------------------------------\n",
      "const       -107.0571    128.673     -0.832      0.425    -393.759     179.645\n",
      "x1            40.7016      5.847      6.961      0.000      27.674      53.730\n",
      "==============================================================================\n",
      "Omnibus:                        1.129   Durbin-Watson:                   1.509\n",
      "Prob(Omnibus):                  0.569   Jarque-Bera (JB):                0.744\n",
      "Skew:                           0.204   Prob(JB):                        0.689\n",
      "Kurtosis:                       1.850   Cond. No.                         69.4\n",
      "==============================================================================\n",
      "\n",
      "Warnings:\n",
      "[1] Standard Errors assume that the covariance matrix of the errors is correctly specified.\n"
     ]
    },
    {
     "name": "stderr",
     "output_type": "stream",
     "text": [
      "/usr/local/lib/python3.5/site-packages/scipy/stats/stats.py:1557: UserWarning: kurtosistest only valid for n>=20 ... continuing anyway, n=12\n",
      "  \"anyway, n=%i\" % int(n))\n"
     ]
    }
   ],
   "source": [
    "print(results.summary())"
   ]
  },
  {
   "cell_type": "code",
   "execution_count": 24,
   "metadata": {
    "collapsed": false
   },
   "outputs": [
    {
     "name": "stdout",
     "output_type": "stream",
     "text": [
      "correlation coefficient 0.910456345185\n"
     ]
    }
   ],
   "source": [
    "b, a = results.params\n",
    "print('correlation coefficient', np.corrcoef(x, y)[0,1])"
   ]
  },
  {
   "cell_type": "code",
   "execution_count": null,
   "metadata": {
    "collapsed": true
   },
   "outputs": [],
   "source": []
  }
 ],
 "metadata": {
  "kernelspec": {
   "display_name": "Python 3",
   "language": "python",
   "name": "python3"
  },
  "language_info": {
   "codemirror_mode": {
    "name": "ipython",
    "version": 3
   },
   "file_extension": ".py",
   "mimetype": "text/x-python",
   "name": "python",
   "nbconvert_exporter": "python",
   "pygments_lexer": "ipython3",
   "version": "3.5.2"
  }
 },
 "nbformat": 4,
 "nbformat_minor": 0
}
