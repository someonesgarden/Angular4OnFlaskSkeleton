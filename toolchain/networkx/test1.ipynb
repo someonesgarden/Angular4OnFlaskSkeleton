{
 "cells": [
  {
   "cell_type": "code",
   "execution_count": null,
   "metadata": {
    "collapsed": true
   },
   "outputs": [],
   "source": [
    "import networkx as nx\n",
    "import json\n",
    "import matplotlib.pyplot as plt\n",
    "%matplotlib inline"
   ]
  },
  {
   "cell_type": "code",
   "execution_count": null,
   "metadata": {
    "collapsed": false
   },
   "outputs": [],
   "source": [
    "G = nx.erdos_renyi_graph(30,4.0/30)\n",
    "while not nx.is_connected(G):\n",
    "    G = nx.erdos_renyi_graph(30,4.0/30)\n",
    "plt.figure(figsize=(6,4));\n",
    "nx.draw(G)"
   ]
  },
  {
   "cell_type": "code",
   "execution_count": null,
   "metadata": {
    "collapsed": false
   },
   "outputs": [],
   "source": [
    "G"
   ]
  },
  {
   "cell_type": "code",
   "execution_count": null,
   "metadata": {
    "collapsed": false
   },
   "outputs": [],
   "source": [
    "G.degree()"
   ]
  },
  {
   "cell_type": "code",
   "execution_count": null,
   "metadata": {
    "collapsed": false
   },
   "outputs": [],
   "source": [
    "for ix,deg in list(G.degree()):\n",
    "    G.node[ix]['degree'] = deg\n",
    "    G.node[ix]['parity'] = (1-deg%2)\n",
    "for ix,katz in nx.katz_centrality(G).items():\n",
    "    G.node[ix]['katz'] = katz"
   ]
  },
  {
   "cell_type": "code",
   "execution_count": null,
   "metadata": {
    "collapsed": false
   },
   "outputs": [],
   "source": [
    "list(G.nodes(data=True))[:5]"
   ]
  },
  {
   "cell_type": "code",
   "execution_count": null,
   "metadata": {
    "collapsed": true
   },
   "outputs": [],
   "source": [
    "from networkx.readwrite import json_graph\n",
    "data = json_graph.node_link_data(G)\n",
    "with open('graph.json', 'w') as f:\n",
    "    json.dump(data, f, indent=4)"
   ]
  },
  {
   "cell_type": "code",
   "execution_count": 5,
   "metadata": {
    "collapsed": false
   },
   "outputs": [
    {
     "name": "stdout",
     "output_type": "stream",
     "text": [
      "/Users/user/PycharmProjects/Angular4OnFlaskSkeleton\n"
     ]
    }
   ],
   "source": [
    "%run ./test1.py"
   ]
  },
  {
   "cell_type": "code",
   "execution_count": 6,
   "metadata": {
    "collapsed": false
   },
   "outputs": [
    {
     "data": {
      "text/plain": [
       "{'directed': False,\n",
       " 'graph': {},\n",
       " 'links': [{'source': 0, 'target': 1},\n",
       "  {'source': 0, 'target': 56},\n",
       "  {'source': 0, 'target': 62},\n",
       "  {'source': 0, 'target': 23},\n",
       "  {'source': 0, 'target': 24},\n",
       "  {'source': 0, 'target': 9},\n",
       "  {'source': 0, 'target': 27},\n",
       "  {'source': 0, 'target': 44},\n",
       "  {'source': 0, 'target': 14},\n",
       "  {'source': 1, 'target': 34},\n",
       "  {'source': 1, 'target': 4},\n",
       "  {'source': 1, 'target': 39},\n",
       "  {'source': 1, 'target': 8},\n",
       "  {'source': 1, 'target': 9},\n",
       "  {'source': 1, 'target': 16},\n",
       "  {'source': 1, 'target': 19},\n",
       "  {'source': 1, 'target': 22},\n",
       "  {'source': 1, 'target': 68},\n",
       "  {'source': 1, 'target': 26},\n",
       "  {'source': 1, 'target': 58},\n",
       "  {'source': 1, 'target': 31},\n",
       "  {'source': 2, 'target': 33},\n",
       "  {'source': 2, 'target': 50},\n",
       "  {'source': 2, 'target': 37},\n",
       "  {'source': 2, 'target': 39},\n",
       "  {'source': 3, 'target': 16},\n",
       "  {'source': 3, 'target': 33},\n",
       "  {'source': 3, 'target': 19},\n",
       "  {'source': 3, 'target': 4},\n",
       "  {'source': 3, 'target': 51},\n",
       "  {'source': 3, 'target': 59},\n",
       "  {'source': 3, 'target': 62},\n",
       "  {'source': 4, 'target': 32},\n",
       "  {'source': 4, 'target': 66},\n",
       "  {'source': 4, 'target': 40},\n",
       "  {'source': 4, 'target': 64},\n",
       "  {'source': 4, 'target': 17},\n",
       "  {'source': 4, 'target': 50},\n",
       "  {'source': 4, 'target': 21},\n",
       "  {'source': 4, 'target': 29},\n",
       "  {'source': 4, 'target': 30},\n",
       "  {'source': 4, 'target': 53},\n",
       "  {'source': 5, 'target': 64},\n",
       "  {'source': 5, 'target': 59},\n",
       "  {'source': 5, 'target': 66},\n",
       "  {'source': 5, 'target': 43},\n",
       "  {'source': 5, 'target': 36},\n",
       "  {'source': 5, 'target': 6},\n",
       "  {'source': 5, 'target': 23},\n",
       "  {'source': 5, 'target': 20},\n",
       "  {'source': 5, 'target': 39},\n",
       "  {'source': 5, 'target': 13},\n",
       "  {'source': 6, 'target': 32},\n",
       "  {'source': 6, 'target': 43},\n",
       "  {'source': 6, 'target': 35},\n",
       "  {'source': 6, 'target': 68},\n",
       "  {'source': 6, 'target': 23},\n",
       "  {'source': 6, 'target': 14},\n",
       "  {'source': 6, 'target': 39},\n",
       "  {'source': 6, 'target': 45},\n",
       "  {'source': 6, 'target': 30},\n",
       "  {'source': 6, 'target': 47},\n",
       "  {'source': 7, 'target': 56},\n",
       "  {'source': 7, 'target': 21},\n",
       "  {'source': 7, 'target': 24},\n",
       "  {'source': 7, 'target': 58},\n",
       "  {'source': 7, 'target': 61},\n",
       "  {'source': 7, 'target': 37},\n",
       "  {'source': 8, 'target': 67},\n",
       "  {'source': 8, 'target': 53},\n",
       "  {'source': 8, 'target': 9},\n",
       "  {'source': 8, 'target': 45},\n",
       "  {'source': 8, 'target': 46},\n",
       "  {'source': 9, 'target': 67},\n",
       "  {'source': 9, 'target': 36},\n",
       "  {'source': 9, 'target': 21},\n",
       "  {'source': 9, 'target': 65},\n",
       "  {'source': 9, 'target': 33},\n",
       "  {'source': 9, 'target': 40},\n",
       "  {'source': 10, 'target': 16},\n",
       "  {'source': 10, 'target': 33},\n",
       "  {'source': 10, 'target': 34},\n",
       "  {'source': 10, 'target': 20},\n",
       "  {'source': 10, 'target': 41},\n",
       "  {'source': 10, 'target': 25},\n",
       "  {'source': 10, 'target': 60},\n",
       "  {'source': 10, 'target': 45},\n",
       "  {'source': 10, 'target': 31},\n",
       "  {'source': 11, 'target': 17},\n",
       "  {'source': 11, 'target': 51},\n",
       "  {'source': 11, 'target': 52},\n",
       "  {'source': 11, 'target': 38},\n",
       "  {'source': 11, 'target': 49},\n",
       "  {'source': 11, 'target': 40},\n",
       "  {'source': 11, 'target': 57},\n",
       "  {'source': 11, 'target': 12},\n",
       "  {'source': 12, 'target': 66},\n",
       "  {'source': 12, 'target': 67},\n",
       "  {'source': 12, 'target': 41},\n",
       "  {'source': 12, 'target': 45},\n",
       "  {'source': 12, 'target': 46},\n",
       "  {'source': 12, 'target': 17},\n",
       "  {'source': 12, 'target': 20},\n",
       "  {'source': 12, 'target': 14},\n",
       "  {'source': 12, 'target': 54},\n",
       "  {'source': 12, 'target': 58},\n",
       "  {'source': 12, 'target': 28},\n",
       "  {'source': 12, 'target': 62},\n",
       "  {'source': 13, 'target': 55},\n",
       "  {'source': 13, 'target': 56},\n",
       "  {'source': 13, 'target': 58},\n",
       "  {'source': 13, 'target': 21},\n",
       "  {'source': 13, 'target': 29},\n",
       "  {'source': 13, 'target': 47},\n",
       "  {'source': 14, 'target': 65},\n",
       "  {'source': 14, 'target': 35},\n",
       "  {'source': 14, 'target': 62},\n",
       "  {'source': 15, 'target': 33},\n",
       "  {'source': 15, 'target': 60},\n",
       "  {'source': 15, 'target': 54},\n",
       "  {'source': 15, 'target': 63},\n",
       "  {'source': 16, 'target': 34},\n",
       "  {'source': 16, 'target': 25},\n",
       "  {'source': 16, 'target': 43},\n",
       "  {'source': 16, 'target': 61},\n",
       "  {'source': 16, 'target': 47},\n",
       "  {'source': 17, 'target': 65},\n",
       "  {'source': 17, 'target': 34},\n",
       "  {'source': 17, 'target': 51},\n",
       "  {'source': 17, 'target': 37},\n",
       "  {'source': 17, 'target': 26},\n",
       "  {'source': 17, 'target': 50},\n",
       "  {'source': 17, 'target': 47},\n",
       "  {'source': 18, 'target': 25},\n",
       "  {'source': 18, 'target': 60},\n",
       "  {'source': 18, 'target': 53},\n",
       "  {'source': 18, 'target': 54},\n",
       "  {'source': 18, 'target': 39},\n",
       "  {'source': 19, 'target': 68},\n",
       "  {'source': 19, 'target': 55},\n",
       "  {'source': 19, 'target': 46},\n",
       "  {'source': 19, 'target': 48},\n",
       "  {'source': 19, 'target': 20},\n",
       "  {'source': 19, 'target': 22},\n",
       "  {'source': 19, 'target': 23},\n",
       "  {'source': 19, 'target': 24},\n",
       "  {'source': 19, 'target': 58},\n",
       "  {'source': 19, 'target': 61},\n",
       "  {'source': 20, 'target': 64},\n",
       "  {'source': 20, 'target': 51},\n",
       "  {'source': 20, 'target': 65},\n",
       "  {'source': 20, 'target': 55},\n",
       "  {'source': 20, 'target': 56},\n",
       "  {'source': 20, 'target': 44},\n",
       "  {'source': 20, 'target': 30},\n",
       "  {'source': 21, 'target': 51},\n",
       "  {'source': 21, 'target': 56},\n",
       "  {'source': 22, 'target': 32},\n",
       "  {'source': 22, 'target': 68},\n",
       "  {'source': 22, 'target': 37},\n",
       "  {'source': 22, 'target': 33},\n",
       "  {'source': 22, 'target': 25},\n",
       "  {'source': 22, 'target': 41},\n",
       "  {'source': 22, 'target': 63},\n",
       "  {'source': 23, 'target': 29},\n",
       "  {'source': 23, 'target': 31},\n",
       "  {'source': 24, 'target': 64},\n",
       "  {'source': 24, 'target': 66},\n",
       "  {'source': 24, 'target': 39},\n",
       "  {'source': 24, 'target': 67},\n",
       "  {'source': 24, 'target': 57},\n",
       "  {'source': 24, 'target': 29},\n",
       "  {'source': 24, 'target': 47},\n",
       "  {'source': 25, 'target': 51},\n",
       "  {'source': 25, 'target': 35},\n",
       "  {'source': 25, 'target': 68},\n",
       "  {'source': 25, 'target': 55},\n",
       "  {'source': 25, 'target': 27},\n",
       "  {'source': 26, 'target': 49},\n",
       "  {'source': 26, 'target': 43},\n",
       "  {'source': 26, 'target': 28},\n",
       "  {'source': 26, 'target': 61},\n",
       "  {'source': 26, 'target': 63},\n",
       "  {'source': 27, 'target': 28},\n",
       "  {'source': 27, 'target': 69},\n",
       "  {'source': 28, 'target': 49},\n",
       "  {'source': 28, 'target': 55},\n",
       "  {'source': 28, 'target': 31},\n",
       "  {'source': 29, 'target': 43},\n",
       "  {'source': 29, 'target': 37},\n",
       "  {'source': 29, 'target': 39},\n",
       "  {'source': 29, 'target': 60},\n",
       "  {'source': 29, 'target': 69},\n",
       "  {'source': 30, 'target': 64},\n",
       "  {'source': 30, 'target': 33},\n",
       "  {'source': 30, 'target': 49},\n",
       "  {'source': 30, 'target': 39},\n",
       "  {'source': 30, 'target': 57},\n",
       "  {'source': 31, 'target': 51},\n",
       "  {'source': 31, 'target': 37},\n",
       "  {'source': 31, 'target': 44},\n",
       "  {'source': 31, 'target': 60},\n",
       "  {'source': 31, 'target': 47},\n",
       "  {'source': 32, 'target': 48},\n",
       "  {'source': 32, 'target': 49},\n",
       "  {'source': 32, 'target': 36},\n",
       "  {'source': 32, 'target': 65},\n",
       "  {'source': 33, 'target': 51},\n",
       "  {'source': 33, 'target': 66},\n",
       "  {'source': 34, 'target': 66},\n",
       "  {'source': 34, 'target': 36},\n",
       "  {'source': 34, 'target': 56},\n",
       "  {'source': 34, 'target': 63},\n",
       "  {'source': 36, 'target': 51},\n",
       "  {'source': 37, 'target': 53},\n",
       "  {'source': 37, 'target': 61},\n",
       "  {'source': 37, 'target': 69},\n",
       "  {'source': 38, 'target': 67},\n",
       "  {'source': 38, 'target': 43},\n",
       "  {'source': 38, 'target': 58},\n",
       "  {'source': 38, 'target': 39},\n",
       "  {'source': 39, 'target': 51},\n",
       "  {'source': 39, 'target': 40},\n",
       "  {'source': 40, 'target': 50},\n",
       "  {'source': 40, 'target': 67},\n",
       "  {'source': 42, 'target': 57},\n",
       "  {'source': 42, 'target': 58},\n",
       "  {'source': 42, 'target': 51},\n",
       "  {'source': 42, 'target': 45},\n",
       "  {'source': 42, 'target': 61},\n",
       "  {'source': 43, 'target': 48},\n",
       "  {'source': 43, 'target': 66},\n",
       "  {'source': 43, 'target': 62},\n",
       "  {'source': 43, 'target': 45},\n",
       "  {'source': 44, 'target': 49},\n",
       "  {'source': 44, 'target': 50},\n",
       "  {'source': 44, 'target': 52},\n",
       "  {'source': 44, 'target': 47},\n",
       "  {'source': 45, 'target': 65},\n",
       "  {'source': 45, 'target': 51},\n",
       "  {'source': 46, 'target': 58},\n",
       "  {'source': 46, 'target': 55},\n",
       "  {'source': 47, 'target': 54},\n",
       "  {'source': 47, 'target': 49},\n",
       "  {'source': 48, 'target': 61},\n",
       "  {'source': 48, 'target': 62},\n",
       "  {'source': 49, 'target': 53},\n",
       "  {'source': 51, 'target': 55},\n",
       "  {'source': 52, 'target': 64},\n",
       "  {'source': 52, 'target': 66},\n",
       "  {'source': 52, 'target': 53},\n",
       "  {'source': 52, 'target': 57},\n",
       "  {'source': 53, 'target': 55},\n",
       "  {'source': 54, 'target': 64},\n",
       "  {'source': 54, 'target': 55},\n",
       "  {'source': 55, 'target': 65},\n",
       "  {'source': 57, 'target': 58},\n",
       "  {'source': 58, 'target': 66},\n",
       "  {'source': 58, 'target': 61},\n",
       "  {'source': 60, 'target': 64},\n",
       "  {'source': 60, 'target': 66},\n",
       "  {'source': 60, 'target': 62},\n",
       "  {'source': 61, 'target': 65},\n",
       "  {'source': 62, 'target': 64},\n",
       "  {'source': 63, 'target': 65},\n",
       "  {'source': 65, 'target': 66},\n",
       "  {'source': 65, 'target': 68},\n",
       "  {'source': 67, 'target': 68}],\n",
       " 'multigraph': False,\n",
       " 'nodes': [{'degree': 9, 'id': 0, 'katz': 0.12086478749623784, 'parity': 0},\n",
       "  {'degree': 13, 'id': 1, 'katz': 0.19154677426716038, 'parity': 0},\n",
       "  {'degree': 4, 'id': 2, 'katz': 0.06591509592516478, 'parity': 1},\n",
       "  {'degree': 7, 'id': 3, 'katz': 0.11220937906011147, 'parity': 0},\n",
       "  {'degree': 12, 'id': 4, 'katz': 0.16712841317641197, 'parity': 1},\n",
       "  {'degree': 10, 'id': 5, 'katz': 0.14566983309537543, 'parity': 1},\n",
       "  {'degree': 11, 'id': 6, 'katz': 0.14979475378306423, 'parity': 0},\n",
       "  {'degree': 6, 'id': 7, 'katz': 0.0916512788176267, 'parity': 1},\n",
       "  {'degree': 6, 'id': 8, 'katz': 0.0920176117364409, 'parity': 1},\n",
       "  {'degree': 9, 'id': 9, 'katz': 0.12503471070571065, 'parity': 0},\n",
       "  {'degree': 9, 'id': 10, 'katz': 0.1289180846073054, 'parity': 0},\n",
       "  {'degree': 8, 'id': 11, 'katz': 0.1154349899871826, 'parity': 1},\n",
       "  {'degree': 13, 'id': 12, 'katz': 0.17346907959830876, 'parity': 0},\n",
       "  {'degree': 7, 'id': 13, 'katz': 0.10745082088173688, 'parity': 0},\n",
       "  {'degree': 6, 'id': 14, 'katz': 0.09573810370910274, 'parity': 1},\n",
       "  {'degree': 4, 'id': 15, 'katz': 0.058879253358999066, 'parity': 1},\n",
       "  {'degree': 8, 'id': 16, 'katz': 0.12559753331181323, 'parity': 1},\n",
       "  {'degree': 10, 'id': 17, 'katz': 0.15296292156442073, 'parity': 1},\n",
       "  {'degree': 5, 'id': 18, 'katz': 0.0760041568244414, 'parity': 0},\n",
       "  {'degree': 12, 'id': 19, 'katz': 0.1775132781609426, 'parity': 1},\n",
       "  {'degree': 11, 'id': 20, 'katz': 0.17531840624026238, 'parity': 0},\n",
       "  {'degree': 6, 'id': 21, 'katz': 0.0943844755296768, 'parity': 1},\n",
       "  {'degree': 9, 'id': 22, 'katz': 0.12789494091002465, 'parity': 0},\n",
       "  {'degree': 6, 'id': 23, 'katz': 0.10374441931249542, 'parity': 1},\n",
       "  {'degree': 10, 'id': 24, 'katz': 0.14888749617636554, 'parity': 1},\n",
       "  {'degree': 9, 'id': 25, 'katz': 0.12014253640276853, 'parity': 0},\n",
       "  {'degree': 7, 'id': 26, 'katz': 0.10695354882607332, 'parity': 0},\n",
       "  {'degree': 4, 'id': 27, 'katz': 0.05608692858058891, 'parity': 1},\n",
       "  {'degree': 6, 'id': 28, 'katz': 0.09049771285573666, 'parity': 1},\n",
       "  {'degree': 9, 'id': 29, 'katz': 0.1285967311417578, 'parity': 0},\n",
       "  {'degree': 8, 'id': 30, 'katz': 0.12920453054629158, 'parity': 1},\n",
       "  {'degree': 9, 'id': 31, 'katz': 0.13379714615959337, 'parity': 0},\n",
       "  {'degree': 7, 'id': 32, 'katz': 0.10645659668916208, 'parity': 0},\n",
       "  {'degree': 9, 'id': 33, 'katz': 0.12845272917304326, 'parity': 0},\n",
       "  {'degree': 8, 'id': 34, 'katz': 0.12041523966905249, 'parity': 1},\n",
       "  {'degree': 3, 'id': 35, 'katz': 0.0546883138888182, 'parity': 0},\n",
       "  {'degree': 5, 'id': 36, 'katz': 0.08610266533827557, 'parity': 0},\n",
       "  {'degree': 9, 'id': 37, 'katz': 0.11567360481117729, 'parity': 0},\n",
       "  {'degree': 5, 'id': 38, 'katz': 0.08573211107018554, 'parity': 0},\n",
       "  {'degree': 11, 'id': 39, 'katz': 0.15772634257601564, 'parity': 0},\n",
       "  {'degree': 6, 'id': 40, 'katz': 0.09246178281247162, 'parity': 1},\n",
       "  {'degree': 3, 'id': 41, 'katz': 0.06114898378621022, 'parity': 0},\n",
       "  {'degree': 5, 'id': 42, 'katz': 0.08715264591957732, 'parity': 0},\n",
       "  {'degree': 10, 'id': 43, 'katz': 0.14278114213218532, 'parity': 1},\n",
       "  {'degree': 7, 'id': 44, 'katz': 0.10122962156028172, 'parity': 0},\n",
       "  {'degree': 8, 'id': 45, 'katz': 0.12988970343521947, 'parity': 1},\n",
       "  {'degree': 5, 'id': 46, 'katz': 0.09300277850188766, 'parity': 0},\n",
       "  {'degree': 9, 'id': 47, 'katz': 0.1297001030311978, 'parity': 0},\n",
       "  {'degree': 5, 'id': 48, 'katz': 0.08530560640855707, 'parity': 0},\n",
       "  {'degree': 8, 'id': 49, 'katz': 0.10581841047158047, 'parity': 1},\n",
       "  {'degree': 5, 'id': 50, 'katz': 0.07609055470236904, 'parity': 0},\n",
       "  {'degree': 13, 'id': 51, 'katz': 0.18224258067152438, 'parity': 0},\n",
       "  {'degree': 6, 'id': 52, 'katz': 0.08949913516128272, 'parity': 1},\n",
       "  {'degree': 7, 'id': 53, 'katz': 0.0974993337924311, 'parity': 0},\n",
       "  {'degree': 6, 'id': 54, 'katz': 0.09025470055493688, 'parity': 1},\n",
       "  {'degree': 10, 'id': 55, 'katz': 0.14764432573264952, 'parity': 1},\n",
       "  {'degree': 6, 'id': 56, 'katz': 0.0891292698906793, 'parity': 1},\n",
       "  {'degree': 6, 'id': 57, 'katz': 0.09095622950856522, 'parity': 1},\n",
       "  {'degree': 11, 'id': 58, 'katz': 0.15817581070224326, 'parity': 0},\n",
       "  {'degree': 2, 'id': 59, 'katz': 0.043908697285830314, 'parity': 1},\n",
       "  {'degree': 8, 'id': 60, 'katz': 0.1132109420177852, 'parity': 1},\n",
       "  {'degree': 9, 'id': 61, 'katz': 0.12905444474133976, 'parity': 0},\n",
       "  {'degree': 8, 'id': 62, 'katz': 0.11604290856925452, 'parity': 1},\n",
       "  {'degree': 5, 'id': 63, 'katz': 0.075666421008749, 'parity': 0},\n",
       "  {'degree': 9, 'id': 64, 'katz': 0.13564239790634308, 'parity': 0},\n",
       "  {'degree': 11, 'id': 65, 'katz': 0.16131351500385638, 'parity': 0},\n",
       "  {'degree': 11, 'id': 66, 'katz': 0.17302108867130567, 'parity': 0},\n",
       "  {'degree': 7, 'id': 67, 'katz': 0.10199513182447081, 'parity': 0},\n",
       "  {'degree': 7, 'id': 68, 'katz': 0.12114085641494421, 'parity': 0},\n",
       "  {'degree': 3, 'id': 69, 'katz': 0.04815650226844384, 'parity': 0}]}"
      ]
     },
     "execution_count": 6,
     "metadata": {},
     "output_type": "execute_result"
    }
   ],
   "source": [
    "datajson"
   ]
  },
  {
   "cell_type": "code",
   "execution_count": 8,
   "metadata": {
    "collapsed": false
   },
   "outputs": [
    {
     "data": {
      "text/plain": [
       "<networkx.classes.graph.Graph at 0x106bb4da0>"
      ]
     },
     "execution_count": 8,
     "metadata": {},
     "output_type": "execute_result"
    }
   ],
   "source": [
    "MYG2"
   ]
  },
  {
   "cell_type": "code",
   "execution_count": 14,
   "metadata": {
    "collapsed": false
   },
   "outputs": [
    {
     "data": {
      "text/plain": [
       "[(0, {'degree': 9, 'katz': 0.12086478749623784, 'parity': 0}),\n",
       " (1, {'degree': 13, 'katz': 0.19154677426716038, 'parity': 0}),\n",
       " (2, {'degree': 4, 'katz': 0.06591509592516478, 'parity': 1}),\n",
       " (3, {'degree': 7, 'katz': 0.11220937906011147, 'parity': 0}),\n",
       " (4, {'degree': 12, 'katz': 0.16712841317641197, 'parity': 1})]"
      ]
     },
     "execution_count": 14,
     "metadata": {},
     "output_type": "execute_result"
    }
   ],
   "source": [
    "list(MYG2.nodes(data=True))[:5]"
   ]
  },
  {
   "cell_type": "code",
   "execution_count": null,
   "metadata": {
    "collapsed": true
   },
   "outputs": [],
   "source": []
  }
 ],
 "metadata": {
  "kernelspec": {
   "display_name": "Python 3",
   "language": "python",
   "name": "python3"
  },
  "language_info": {
   "codemirror_mode": {
    "name": "ipython",
    "version": 3
   },
   "file_extension": ".py",
   "mimetype": "text/x-python",
   "name": "python",
   "nbconvert_exporter": "python",
   "pygments_lexer": "ipython3",
   "version": "3.5.2"
  }
 },
 "nbformat": 4,
 "nbformat_minor": 0
}
